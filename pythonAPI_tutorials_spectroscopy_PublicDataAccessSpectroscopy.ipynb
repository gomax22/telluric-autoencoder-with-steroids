{
 "cells": [
  {
   "cell_type": "markdown",
   "metadata": {},
   "source": [
    "# Access Publicly available High Resolution Spectroscopic Data\n",
    "\n",
    "\n",
    "## Authors\n",
    "Damien Ségransan (DACE Project Leader)\n",
    "\n",
    "Nicolas Unger (DACE Data Scientist)\n",
    "\n",
    "##  Goals\n",
    "* Demonstrates how to use the DACE API's to navigate your way through data publicly available through DACE\n",
    "\n",
    "\n",
    "\n",
    "## Keywords\n",
    "**dace.spectroscopy**, Spectroscopy.query_database, Spectroscopy.download, Spectroscopy.get_timeseries<br> \n",
    "\n",
    "\n",
    "## Requirements\n",
    "Anaconda 3, Python 3.8 or later, IPython 7.8.0<br>\n",
    "**dace-query : 1.1.0 or later**\n",
    "\n",
    "## Summary\n",
    "In this example, you will query the DACE observation database, download severale products from the HARPS&CORALIE DRS and finally retrieve the radial velocity time series of a star."
   ]
  },
  {
   "cell_type": "markdown",
   "metadata": {},
   "source": [
    "## Imports"
   ]
  },
  {
   "cell_type": "code",
   "execution_count": 1,
   "metadata": {},
   "outputs": [
    {
     "name": "stderr",
     "output_type": "stream",
     "text": [
      "2024-04-15 09:51:11,319 - WARNING - File .dacerc not found. You are requesting data in public mode. To change this behaviour, create a .dacerc file in your home directory and fill it with your API key. More infos on https://dace.unige.ch\n"
     ]
    }
   ],
   "source": [
    "import os\n",
    "import numpy as np\n",
    "import matplotlib.pyplot as plt\n",
    "\n",
    "# Load the dace API spectroscopy module\n",
    "from dace_query.spectroscopy import Spectroscopy"
   ]
  },
  {
   "cell_type": "markdown",
   "metadata": {},
   "source": [
    "### Query the DACE Observation Database\n",
    "Here you'll search for all data publicly available for the star **HD106869**. We will request the output format to be a pandas DataFrame. "
   ]
  },
  {
   "cell_type": "code",
   "execution_count": 2,
   "metadata": {
    "scrolled": false
   },
   "outputs": [],
   "source": [
    "observedTargets = Spectroscopy.query_database(\n",
    "    limit=10000,\n",
    "    filters={\"public\": {\"is\": True}, \"obj_id_catname\": {\"contains\": [\"HD106869\"]}},\n",
    "    output_format=\"pandas\",\n",
    ")"
   ]
  },
  {
   "cell_type": "code",
   "execution_count": 3,
   "metadata": {},
   "outputs": [
    {
     "name": "stdout",
     "output_type": "stream",
     "text": [
      "obj_id_catname\n",
      "obj_pos_coordinates_hms_dms\n",
      "ins_name\n",
      "prog_id\n",
      "obj_date_bjd\n",
      "date_night\n",
      "ins_drs_version\n",
      "pub_bibcode\n",
      "pub_ref\n",
      "ins_mode\n",
      "public\n",
      "db_spectrum_available\n",
      "obj_id_daceid\n",
      "spectro_analysis_ca_flx_h\n",
      "spectro_analysis_ca_flx_r1\n",
      "spectro_analysis_protn84_err\n",
      "spectro_analysis_smw\n",
      "spectro_analysis_ca_flx_k_err\n",
      "spectro_analysis_ca_flx_r2_err\n",
      "spectro_analysis_halpha_flx_r2_err\n",
      "spectro_analysis_halpha_flx_h_err\n",
      "spectro_analysis_na_err\n",
      "spectro_analysis_na_flx_r2_err\n",
      "spectro_analysis_halpha_flx_r1\n",
      "spectro_analysis_na_flx_d1\n",
      "spectro_analysis_smw_err\n",
      "spectro_analysis_halpha\n",
      "spectro_analysis_na_flx_d1_err\n",
      "spectro_analysis_na_flx_d2\n",
      "spectro_analysis_halpha_flx_r1_err\n",
      "spectro_analysis_na_flx_r2\n",
      "spectro_analysis_ca_flx_r2\n",
      "spectro_analysis_na_flx_d2_err\n",
      "spectro_analysis_ca_flx_h_err\n",
      "spectro_analysis_na_flx_r1\n",
      "spectro_analysis_halpha_flx_r2\n",
      "spectro_analysis_protn84\n",
      "spectro_analysis_na_flx_r1_err\n",
      "spectro_analysis_rhk\n",
      "ins_adc_pos\n",
      "obj_pos_mudelta\n",
      "obj_pos_equinox\n",
      "obj_pos_mualpha\n",
      "obj_pos_radvel\n",
      "file_rootpath\n",
      "photocenter\n",
      "spectro_cal_thfile\n",
      "spectro_ccf_contrast_err\n",
      "spectro_ccf_flux_corrmin\n",
      "spectro_ccf_bispan_err\n",
      "spectro_ccf_contrast\n",
      "spectro_flux_sn60\n",
      "spectro_ccf_fwhm\n",
      "spectro_flux_sn40\n",
      "spectro_flux_sn20\n",
      "spectro_flux_sn50\n",
      "spectro_ccf_bispan\n",
      "texp\n",
      "spectro_ccf_rv\n",
      "tpl_name\n",
      "spectro_ccf_flux_corrmax\n",
      "spectro_analysis_ca_err\n",
      "spectro_analysis_rhk_err\n",
      "spectro_analysis_ca_flx_r1_err\n",
      "spectro_analysis_halpha_flx_h\n",
      "spectro_analysis_protm08_err\n",
      "spectro_analysis_halpha_err\n",
      "spectro_analysis_ca_flx_k\n",
      "spectro_analysis_protm08\n",
      "spectro_analysis_ca\n",
      "spectro_analysis_na\n",
      "spectro_drs_qc_chi2\n",
      "spectro_drs_qc_drift\n",
      "clim_seeing_x\n",
      "spectro_drs_qc_saturation\n",
      "clim_seeing_y\n",
      "spectro_drs_qc_flux_corr\n",
      "spectro_drs_qc_drift_mean\n",
      "spectro_ccf_mask_in_sof\n",
      "ins_drs_reduction_date\n",
      "ins_opti_fiber_a\n",
      "ins_opti_fiber_b\n",
      "spectro_ccf_asym\n",
      "spectro_ccf_mask\n",
      "spectro_cal_drift_noise\n",
      "spectro_cal_drift_rv\n",
      "spectro_ccf_fwhm_err\n",
      "spectro_cal_berv_mx\n",
      "spectro_ccf_rv_err\n",
      "spectro_flux_sn10\n",
      "spectro_flux_sn30\n",
      "spectro_cal_berv\n",
      "spectro_drs_qc\n",
      "clim_airmass\n",
      "spectro_drs_qc_drift_mean_err\n",
      "spectro_drs_qc_flux_ratio\n",
      "spectro_ccf_asym_err\n",
      "spectro_ccf_continuum\n",
      "spectro_dprtype\n",
      "obj_sptype\n",
      "ins1_adc1_temp\n",
      "ins1_adc2_temp\n",
      "ins2_adc1_temp\n",
      "ins2_adc2_temp\n",
      "ins3_adc1_temp\n",
      "ins3_adc2_temp\n",
      "ins4_adc1_temp\n",
      "ins4_adc2_temp\n",
      "th_ar\n",
      "th_ar1\n",
      "th_ar2\n"
     ]
    }
   ],
   "source": [
    "# list the keys of the dictionary  - Un-comment the code below to have the full listing\n",
    "for col in observedTargets.columns:\n",
    "    print(col)"
   ]
  },
  {
   "cell_type": "code",
   "execution_count": 4,
   "metadata": {},
   "outputs": [
    {
     "data": {
      "text/html": [
       "<div>\n",
       "<style scoped>\n",
       "    .dataframe tbody tr th:only-of-type {\n",
       "        vertical-align: middle;\n",
       "    }\n",
       "\n",
       "    .dataframe tbody tr th {\n",
       "        vertical-align: top;\n",
       "    }\n",
       "\n",
       "    .dataframe thead th {\n",
       "        text-align: right;\n",
       "    }\n",
       "</style>\n",
       "<table border=\"1\" class=\"dataframe\">\n",
       "  <thead>\n",
       "    <tr style=\"text-align: right;\">\n",
       "      <th></th>\n",
       "      <th>obj_id_catname</th>\n",
       "      <th>obj_date_bjd</th>\n",
       "      <th>date_night</th>\n",
       "      <th>ins_name</th>\n",
       "      <th>file_rootpath</th>\n",
       "    </tr>\n",
       "  </thead>\n",
       "  <tbody>\n",
       "    <tr>\n",
       "      <th>0</th>\n",
       "      <td>HD106869</td>\n",
       "      <td>54828.779333</td>\n",
       "      <td>2008-12-27</td>\n",
       "      <td>CORALIE07</td>\n",
       "      <td>coralie07/DRS-3.4/reduced/2008-12-27/CORALIE.2...</td>\n",
       "    </tr>\n",
       "    <tr>\n",
       "      <th>1</th>\n",
       "      <td>HD106869</td>\n",
       "      <td>54823.823460</td>\n",
       "      <td>2008-12-22</td>\n",
       "      <td>CORALIE07</td>\n",
       "      <td>coralie07/DRS-3.4/reduced/2008-12-22/CORALIE.2...</td>\n",
       "    </tr>\n",
       "    <tr>\n",
       "      <th>2</th>\n",
       "      <td>HD106869</td>\n",
       "      <td>54831.810311</td>\n",
       "      <td>2008-12-30</td>\n",
       "      <td>CORALIE07</td>\n",
       "      <td>coralie07/DRS-3.4/reduced/2008-12-30/CORALIE.2...</td>\n",
       "    </tr>\n",
       "    <tr>\n",
       "      <th>3</th>\n",
       "      <td>HD106869</td>\n",
       "      <td>52355.778162</td>\n",
       "      <td>2002-03-21</td>\n",
       "      <td>CORALIE98</td>\n",
       "      <td>coralie98/DRS-3.3/reduced/2002-03-21/CORALIE.2...</td>\n",
       "    </tr>\n",
       "    <tr>\n",
       "      <th>4</th>\n",
       "      <td>HD106869</td>\n",
       "      <td>51776.504301</td>\n",
       "      <td>2000-08-19</td>\n",
       "      <td>CORALIE98</td>\n",
       "      <td>coralie98/DRS-3.3/reduced/2000-08-19/CORALIE.2...</td>\n",
       "    </tr>\n",
       "    <tr>\n",
       "      <th>...</th>\n",
       "      <td>...</td>\n",
       "      <td>...</td>\n",
       "      <td>...</td>\n",
       "      <td>...</td>\n",
       "      <td>...</td>\n",
       "    </tr>\n",
       "    <tr>\n",
       "      <th>59</th>\n",
       "      <td>HD106869</td>\n",
       "      <td>52343.715509</td>\n",
       "      <td>2002-03-09</td>\n",
       "      <td>CORALIE98</td>\n",
       "      <td>coralie98/DRS-3.3/reduced/2002-03-09/CORALIE.2...</td>\n",
       "    </tr>\n",
       "    <tr>\n",
       "      <th>60</th>\n",
       "      <td>HD106869</td>\n",
       "      <td>52404.604139</td>\n",
       "      <td>2002-05-09</td>\n",
       "      <td>CORALIE98</td>\n",
       "      <td>coralie98/DRS-3.3/reduced/2002-05-09/CORALIE.2...</td>\n",
       "    </tr>\n",
       "    <tr>\n",
       "      <th>61</th>\n",
       "      <td>HD106869</td>\n",
       "      <td>51751.469814</td>\n",
       "      <td>2000-07-25</td>\n",
       "      <td>CORALIE98</td>\n",
       "      <td>coralie98/DRS-3.3/reduced/2000-07-25/CORALIE.2...</td>\n",
       "    </tr>\n",
       "    <tr>\n",
       "      <th>62</th>\n",
       "      <td>HD106869</td>\n",
       "      <td>54829.839592</td>\n",
       "      <td>2008-12-28</td>\n",
       "      <td>CORALIE07</td>\n",
       "      <td>coralie07/DRS-3.4/reduced/2008-12-28/CORALIE.2...</td>\n",
       "    </tr>\n",
       "    <tr>\n",
       "      <th>63</th>\n",
       "      <td>HD106869</td>\n",
       "      <td>52323.828853</td>\n",
       "      <td>2002-02-17</td>\n",
       "      <td>CORALIE98</td>\n",
       "      <td>coralie98/DRS-3.3/reduced/2002-02-17/CORALIE.2...</td>\n",
       "    </tr>\n",
       "  </tbody>\n",
       "</table>\n",
       "<p>64 rows × 5 columns</p>\n",
       "</div>"
      ],
      "text/plain": [
       "   obj_id_catname  obj_date_bjd  date_night   ins_name  \\\n",
       "0        HD106869  54828.779333  2008-12-27  CORALIE07   \n",
       "1        HD106869  54823.823460  2008-12-22  CORALIE07   \n",
       "2        HD106869  54831.810311  2008-12-30  CORALIE07   \n",
       "3        HD106869  52355.778162  2002-03-21  CORALIE98   \n",
       "4        HD106869  51776.504301  2000-08-19  CORALIE98   \n",
       "..            ...           ...         ...        ...   \n",
       "59       HD106869  52343.715509  2002-03-09  CORALIE98   \n",
       "60       HD106869  52404.604139  2002-05-09  CORALIE98   \n",
       "61       HD106869  51751.469814  2000-07-25  CORALIE98   \n",
       "62       HD106869  54829.839592  2008-12-28  CORALIE07   \n",
       "63       HD106869  52323.828853  2002-02-17  CORALIE98   \n",
       "\n",
       "                                        file_rootpath  \n",
       "0   coralie07/DRS-3.4/reduced/2008-12-27/CORALIE.2...  \n",
       "1   coralie07/DRS-3.4/reduced/2008-12-22/CORALIE.2...  \n",
       "2   coralie07/DRS-3.4/reduced/2008-12-30/CORALIE.2...  \n",
       "3   coralie98/DRS-3.3/reduced/2002-03-21/CORALIE.2...  \n",
       "4   coralie98/DRS-3.3/reduced/2000-08-19/CORALIE.2...  \n",
       "..                                                ...  \n",
       "59  coralie98/DRS-3.3/reduced/2002-03-09/CORALIE.2...  \n",
       "60  coralie98/DRS-3.3/reduced/2002-05-09/CORALIE.2...  \n",
       "61  coralie98/DRS-3.3/reduced/2000-07-25/CORALIE.2...  \n",
       "62  coralie07/DRS-3.4/reduced/2008-12-28/CORALIE.2...  \n",
       "63  coralie98/DRS-3.3/reduced/2002-02-17/CORALIE.2...  \n",
       "\n",
       "[64 rows x 5 columns]"
      ]
     },
     "execution_count": 4,
     "metadata": {},
     "output_type": "execute_result"
    }
   ],
   "source": [
    "observedTargets[\n",
    "    [\"obj_id_catname\", \"obj_date_bjd\", \"date_night\", \"ins_name\", \"file_rootpath\"]\n",
    "]"
   ]
  },
  {
   "cell_type": "markdown",
   "metadata": {},
   "source": [
    "### Download  HARPS DRS data products\n",
    "Now that you have a complete list of the publicly available data for **HD106869**, you are able to download all the reduced data of one night and save them as a file in `'HD40307-1998_11_13-download_files.tar.gz'`"
   ]
  },
  {
   "cell_type": "markdown",
   "metadata": {},
   "source": [
    "The raw files can be downloaded using the `download_files` method by giving the list of file paths. These can be retrieved from the `file_rootpath` column of the Spectroscopy databse (see above)."
   ]
  },
  {
   "cell_type": "code",
   "execution_count": 5,
   "metadata": {},
   "outputs": [],
   "source": [
    "# Set current directory as download path\n",
    "download_path = os.getcwd()"
   ]
  },
  {
   "cell_type": "code",
   "execution_count": 6,
   "metadata": {},
   "outputs": [
    {
     "data": {
      "text/plain": [
       "'coralie07/DRS-3.4/reduced/2008-12-27/CORALIE.2008-12-28T06:38:35.552.fits'"
      ]
     },
     "execution_count": 6,
     "metadata": {},
     "output_type": "execute_result"
    }
   ],
   "source": [
    "# Let's retireve the file name of the first observation available with CORALIE07\n",
    "observedTargets.query(\"ins_name == 'CORALIE07'\")[\"file_rootpath\"].iloc[0]"
   ]
  },
  {
   "cell_type": "code",
   "execution_count": 7,
   "metadata": {},
   "outputs": [
    {
     "name": "stderr",
     "output_type": "stream",
     "text": [
      "2023-11-23 10:10:31,321 - INFO - Downloading file on location : /home/nunger/Dropbox/Postdoc/DACE data import/DACE Tutorials/HD106869-download_files.tar.gz\n"
     ]
    },
    {
     "name": "stdout",
     "output_type": "stream",
     "text": [
      " Download : 2 MB"
     ]
    },
    {
     "name": "stderr",
     "output_type": "stream",
     "text": [
      "2023-11-23 10:10:32,018 - INFO - File downloaded on location : /home/nunger/Dropbox/Postdoc/DACE data import/DACE Tutorials/HD106869-download_files.tar.gz\n"
     ]
    },
    {
     "name": "stdout",
     "output_type": "stream",
     "text": [
      " Download : 3 MB\n",
      "Download done\n"
     ]
    }
   ],
   "source": [
    "# Download all the raw files\n",
    "Spectroscopy.download_files(\n",
    "    files=[\"coralie07/DRS-3.4/reduced/2008-12-22/CORALIE.2008-12-23T07:42:36.977.fits\"],\n",
    "    file_type=\"all\",\n",
    "    output_directory=download_path,\n",
    "    output_filename=\"HD106869-download_files.tar.gz\",\n",
    ")"
   ]
  },
  {
   "cell_type": "markdown",
   "metadata": {},
   "source": [
    "The same thing can be done by downloading the files with the `download` method by providing the filters. We do the same as above but using filters instead of the file rooth path.\n",
    "\n",
    "The first argument, `file_type`, can be used to indicate which type of files are wanted. The options are: `['s1d', 's2d', 'ccf', 'bis', 'guidance', 'all']`"
   ]
  },
  {
   "cell_type": "code",
   "execution_count": 8,
   "metadata": {},
   "outputs": [
    {
     "name": "stderr",
     "output_type": "stream",
     "text": [
      "2023-11-23 10:10:32,730 - INFO - Downloading file on location : /home/nunger/Dropbox/Postdoc/DACE data import/DACE Tutorials/HD106869-2008-12-22-download.tar.gz\n",
      "2023-11-23 10:10:33,182 - INFO - File downloaded on location : /home/nunger/Dropbox/Postdoc/DACE data import/DACE Tutorials/HD106869-2008-12-22-download.tar.gz\n"
     ]
    },
    {
     "name": "stdout",
     "output_type": "stream",
     "text": [
      " Download : 3 MB\n",
      "Download done\n"
     ]
    }
   ],
   "source": [
    "Spectroscopy.download(\n",
    "    \"all\",\n",
    "    filters={\n",
    "        \"date_night\": {\"contains\": [\"2008-12-22\"]},\n",
    "        \"obj_id_catname\": {\"contains\": [\"HD106869\"]},\n",
    "    },\n",
    "    output_directory=download_path,\n",
    "    output_filename=\"HD106869-2008-12-22-download.tar.gz\",\n",
    ")"
   ]
  },
  {
   "cell_type": "markdown",
   "metadata": {},
   "source": [
    "### Retrieve and display HD106869 time series\n",
    "Retrieve the different time series of HD106869 that are extracted from the high resolution spectra. It includes, the radial velocity, the CCF FHWM, the CCF-BIS and different activity indices."
   ]
  },
  {
   "cell_type": "code",
   "execution_count": 9,
   "metadata": {},
   "outputs": [
    {
     "data": {
      "text/plain": [
       "Text(0, 0.5, 'Radial Velocity [m/s]')"
      ]
     },
     "execution_count": 9,
     "metadata": {},
     "output_type": "execute_result"
    },
    {
     "data": {
      "image/png": "[encoded data removed]",
      "text/plain": [
       "<Figure size 1000x600 with 1 Axes>"
      ]
     },
     "metadata": {},
     "output_type": "display_data"
    }
   ],
   "source": [
    "# Get RV time series for a given target\n",
    "spectro_time_series = Spectroscopy.get_timeseries(\n",
    "    \"HD106869\", sorted_by_instrument=False, output_format=\"pandas\"\n",
    ")\n",
    "\n",
    "# Remove two outliers that this dataset has\n",
    "# These were taken on the nights of 2003-03-12 and 2013-01-26\n",
    "spectro_time_series.drop(\n",
    "    spectro_time_series.query(\"date_night == '2003-03-12'\").index, inplace=True\n",
    ")\n",
    "spectro_time_series.drop(\n",
    "    spectro_time_series.query(\"date_night == '2013-01-26'\").index, inplace=True\n",
    ")\n",
    "\n",
    "date_d = spectro_time_series[\"rjd\"]\n",
    "rv_mps = spectro_time_series[\"rv\"]\n",
    "erv_mps = spectro_time_series[\"rv_err\"]\n",
    "\n",
    "# Display publicly available Radial Velocities as function of time\n",
    "plt.figure(figsize=(10, 6))\n",
    "plt.title(\"HD106869\")\n",
    "plt.errorbar(\n",
    "    date_d,\n",
    "    rv_mps - np.median(rv_mps),\n",
    "    yerr=erv_mps,\n",
    "    fmt=\".\",\n",
    ")\n",
    "plt.xlabel(\"Date [bjd]\")\n",
    "plt.ylabel(\"Radial Velocity [m/s]\")"
   ]
  },
  {
   "cell_type": "markdown",
   "metadata": {},
   "source": [
    "## Checking for correlations\n",
    "\n",
    "One of the things we can do is check for correlations between the RVs and activity indicators by plotting a scatter plot of any two observables."
   ]
  },
  {
   "cell_type": "code",
   "execution_count": 10,
   "metadata": {},
   "outputs": [
    {
     "data": {
      "text/plain": [
       "Text(0.5, 1.0, 'HD106869')"
      ]
     },
     "execution_count": 10,
     "metadata": {},
     "output_type": "execute_result"
    },
    {
     "data": {
      "image/png": "[encoded data removed]",
      "text/plain": [
       "<Figure size 640x480 with 1 Axes>"
      ]
     },
     "metadata": {},
     "output_type": "display_data"
    }
   ],
   "source": [
    "# Scatter plot of the RVs and the FWHM of the CCF\n",
    "plt.errorbar(\n",
    "    rv_mps,\n",
    "    spectro_time_series[\"fwhm\"],\n",
    "    yerr=spectro_time_series[\"fwhm_err\"],\n",
    "    xerr=erv_mps,\n",
    "    fmt=\".\",\n",
    ")\n",
    "plt.xlabel(\"Radial Velocity [m/s]\")\n",
    "plt.ylabel(\"FWHM [km/s]\")\n",
    "plt.title(\"HD106869\")"
   ]
  },
  {
   "cell_type": "markdown",
   "metadata": {},
   "source": [
    "(c) 2023 Data & Analysis Center for Exoplanets, Univerity of Geneva, Switzerland"
   ]
  }
 ],
 "metadata": {
  "kernelspec": {
   "display_name": "Python 3",
   "language": "python",
   "name": "python3"
  },
  "language_info": {
   "codemirror_mode": {
    "name": "ipython",
    "version": 3
   },
   "file_extension": ".py",
   "mimetype": "text/x-python",
   "name": "python",
   "nbconvert_exporter": "python",
   "pygments_lexer": "ipython3",
   "version": "3.11.8"
  }
 },
 "nbformat": 4,
 "nbformat_minor": 2
}
