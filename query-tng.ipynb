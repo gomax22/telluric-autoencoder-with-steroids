{
 "cells": [
  {
   "cell_type": "code",
   "execution_count": 1,
   "metadata": {},
   "outputs": [
    {
     "name": "stdout",
     "output_type": "stream",
     "text": [
      "pyvo             version 1.5.1\n"
     ]
    }
   ],
   "source": [
    "import os \n",
    "import sys\n",
    "\n",
    "import pyvo as vo\n",
    "from pyvo.dal import tap\n",
    "\n",
    "# Verify the version of pyvo \n",
    "from pkg_resources import parse_version\n",
    "if parse_version(vo.__version__) < parse_version('1.4'):\n",
    "    raise ImportError('pyvo version must be 1.4 or higher')\n",
    "    \n",
    "print('pyvo             version {version}'.format(version=vo.__version__))\n",
    "\n",
    "\n",
    "tap = vo.dal.TAPService(\"http://archives.ia2.inaf.it/vo/tap/tng/\")"
   ]
  },
  {
   "cell_type": "code",
   "execution_count": 4,
   "metadata": {},
   "outputs": [
    {
     "name": "stdout",
     "output_type": "stream",
     "text": [
      "<DALResultsTable length=1000>\n",
      "              file_name                policy ... program2\n",
      "                object                 object ...  object \n",
      "-------------------------------------- ------ ... --------\n",
      " HARPN.2020-01-01T10-07-49.633.fits.gz   PRIV ...    SOLAR\n",
      " HARPN.2020-01-01T10-02-24.135.fits.gz   PRIV ...    SOLAR\n",
      " HARPN.2020-01-01T10-13-14.781.fits.gz   PRIV ...    SOLAR\n",
      " HARPN.2020-01-01T10-18-40.303.fits.gz   PRIV ...    SOLAR\n",
      " HARPN.2020-01-01T10-29-30.528.fits.gz   PRIV ...    SOLAR\n",
      " HARPN.2020-01-01T10-24-05.418.fits.gz   PRIV ...    SOLAR\n",
      " HARPN.2020-01-01T10-34-56.802.fits.gz   PRIV ...    SOLAR\n",
      " HARPN.2020-01-01T10-40-22.692.fits.gz   PRIV ...    SOLAR\n",
      " HARPN.2020-01-01T10-45-47.424.fits.gz   PRIV ...    SOLAR\n",
      " HARPN.2020-01-01T10-51-12.154.fits.gz   PRIV ...    SOLAR\n",
      "                                   ...    ... ...      ...\n",
      "E-HARPN.2020-01-03T12-19-10.331.tbl.gz   PRIV ...    SOLAR\n",
      "E-HARPN.2020-01-03T12-13-45.216.tbl.gz   PRIV ...    SOLAR\n",
      "E-HARPN.2020-01-03T12-02-55.351.tbl.gz   PRIV ...    SOLAR\n",
      "E-HARPN.2020-01-03T12-08-20.082.tbl.gz   PRIV ...    SOLAR\n",
      "E-HARPN.2020-01-03T11-57-29.852.tbl.gz   PRIV ...    SOLAR\n",
      "E-HARPN.2020-01-03T11-52-05.119.tbl.gz   PRIV ...    SOLAR\n",
      "E-HARPN.2020-01-03T11-41-15.267.tbl.gz   PRIV ...    SOLAR\n",
      "E-HARPN.2020-01-03T11-46-40.387.tbl.gz   PRIV ...    SOLAR\n",
      "E-HARPN.2020-01-03T11-35-50.527.tbl.gz   PRIV ...    SOLAR\n",
      "E-HARPN.2020-01-03T11-30-24.246.tbl.gz   PRIV ...    SOLAR\n"
     ]
    },
    {
     "name": "stderr",
     "output_type": "stream",
     "text": [
      "/home/m.gorsini/anaconda3/envs/rte/lib/python3.11/site-packages/pyvo/dal/query.py:325: DALOverflowWarning: Partial result set. Potential causes MAXREC, async storage space, etc.\n",
      "  warn(\"Partial result set. Potential causes MAXREC, async storage space, etc.\",\n"
     ]
    }
   ],
   "source": [
    "query=\"\"\"SELECT tng.EXP_ID AS file_name, tng.policy AS policy, tng.DATE_OBS AS DATE_OBS, tng.OBS_MODE AS OBS_MODE, tng.INSTRUMENT AS INSTRUMENT, tng.PROGRAM AS PROGRAM, tng.OBJECT AS OBJECT, tng.file_url AS file_url, tng.PROGRAM AS program FROM tng.TNG_TAP tng WHERE tng.INSTRUMENT LIKE 'HARPN' AND tng.DATE_OBS >= '2020-01-01T00:00:00.0' AND tng.DATE_OBS <= '2021-12-31T00:00:00.0' AND tng.OBJECT = 'Sun'\"\"\"\n",
    "res = tap.search(query, maxrec=1000)\n",
    "print(res)"
   ]
  },
  {
   "cell_type": "code",
   "execution_count": 7,
   "metadata": {},
   "outputs": [
    {
     "name": "stderr",
     "output_type": "stream",
     "text": [
      "/home/m.gorsini/anaconda3/envs/rte/lib/python3.11/site-packages/pyvo/dal/query.py:325: DALOverflowWarning: Partial result set. Potential causes MAXREC, async storage space, etc.\n",
      "  warn(\"Partial result set. Potential causes MAXREC, async storage space, etc.\",\n"
     ]
    },
    {
     "data": {
      "text/html": [
       "<i>Table length=1</i>\n",
       "<table id=\"table47539867032848-979632\" class=\"table-striped table-bordered table-condensed\">\n",
       "<thead><tr><th>idx</th><th>AIRMASS</th><th>date_ingest</th><th>DATE_OBS</th><th>DEC</th><th>DEC_RAD</th><th>EXPSTART</th><th>EXPTIME</th><th>EXP_ID</th><th>file_url</th><th>id</th><th>INSTRUMENT</th><th>NAXIS</th><th>NAXIS1</th><th>NAXIS2</th><th>NIGHT_DATE</th><th>OBJECT</th><th>OBS_MODE</th><th>partner</th><th>piname</th><th>PIXSCALE</th><th>policy</th><th>PROGRAM</th><th>RA</th><th>RA_RAD</th></tr></thead>\n",
       "<tr><td>0</td><td>-99999.9</td><td>2015-07-12T13:11:52Z</td><td>2015-07-12T12:02:59.465</td><td>0:00:00.0</td><td>0.0</td><td>12:02:59</td><td>300.0</td><td>HARPN.2015-07-12T12-02-59.465.fits.gz</td><td>http://archives.ia2.inaf.it/files/tng/HARPN.2015-07-12T12-02-59.465.fits.gz</td><td>277167</td><td>HARPN</td><td>1</td><td>0</td><td></td><td>2015-07-12</td><td>Sun</td><td>SCIENCE</td><td>TEST</td><td>TEST</td><td>--</td><td>PRIV</td><td>TEST</td><td>0:00:00.00</td><td>0.0</td></tr>\n",
       "</table><style>table.dataTable {clear: both; width: auto !important; margin: 0 !important;}\n",
       ".dataTables_info, .dataTables_length, .dataTables_filter, .dataTables_paginate{\n",
       "display: inline-block; margin-right: 1em; }\n",
       ".paginate_button { margin-right: 5px; }\n",
       "</style>\n",
       "<script>\n",
       "\n",
       "var astropy_sort_num = function(a, b) {\n",
       "    var a_num = parseFloat(a);\n",
       "    var b_num = parseFloat(b);\n",
       "\n",
       "    if (isNaN(a_num) && isNaN(b_num))\n",
       "        return ((a < b) ? -1 : ((a > b) ? 1 : 0));\n",
       "    else if (!isNaN(a_num) && !isNaN(b_num))\n",
       "        return ((a_num < b_num) ? -1 : ((a_num > b_num) ? 1 : 0));\n",
       "    else\n",
       "        return isNaN(a_num) ? -1 : 1;\n",
       "}\n",
       "\n",
       "require.config({paths: {\n",
       "    datatables: 'https://cdn.datatables.net/1.10.12/js/jquery.dataTables.min'\n",
       "}});\n",
       "require([\"datatables\"], function(){\n",
       "    console.log(\"$('#table47539867032848-979632').dataTable()\");\n",
       "    \n",
       "jQuery.extend( jQuery.fn.dataTableExt.oSort, {\n",
       "    \"optionalnum-asc\": astropy_sort_num,\n",
       "    \"optionalnum-desc\": function (a,b) { return -astropy_sort_num(a, b); }\n",
       "});\n",
       "\n",
       "    $('#table47539867032848-979632').dataTable({\n",
       "        order: [],\n",
       "        pageLength: 50,\n",
       "        lengthMenu: [[10, 25, 50, 100, 500, 1000, -1], [10, 25, 50, 100, 500, 1000, 'All']],\n",
       "        pagingType: \"full_numbers\",\n",
       "        columnDefs: [{targets: [0, 1, 5, 20, 24], type: \"optionalnum\"}]\n",
       "    });\n",
       "});\n",
       "</script>\n"
      ],
      "text/plain": [
       "<IPython.core.display.HTML object>"
      ]
     },
     "execution_count": 7,
     "metadata": {},
     "output_type": "execute_result"
    }
   ],
   "source": [
    "query=\"\"\"SELECT * FROM tng.TNG_TAP tng WHERE tng.INSTRUMENT LIKE 'HARPN' AND tng.OBJECT = 'Sun'\"\"\"\n",
    "res = tap.search(query, maxrec=1)\n",
    "res.to_table().show_in_notebook()"
   ]
  },
  {
   "cell_type": "code",
   "execution_count": null,
   "metadata": {},
   "outputs": [],
   "source": []
  }
 ],
 "metadata": {
  "kernelspec": {
   "display_name": "Python 3 (ipykernel)",
   "language": "python",
   "name": "python3"
  },
  "language_info": {
   "codemirror_mode": {
    "name": "ipython",
    "version": 3
   },
   "file_extension": ".py",
   "mimetype": "text/x-python",
   "name": "python",
   "nbconvert_exporter": "python",
   "pygments_lexer": "ipython3",
   "version": "3.11.8"
  }
 },
 "nbformat": 4,
 "nbformat_minor": 4
}
